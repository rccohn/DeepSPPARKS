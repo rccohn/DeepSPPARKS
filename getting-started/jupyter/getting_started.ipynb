{
 "cells": [
  {
   "cell_type": "code",
   "execution_count": null,
   "id": "4fa4da11-6449-43f5-86ac-921cf156c5da",
   "metadata": {},
   "outputs": [],
   "source": [
    "from deepspparks.graphs import Graph\n",
    "import matplotlib.pyplot as plt\n",
    "import mlflow"
   ]
  },
  {
   "cell_type": "markdown",
   "id": "58cecd49-0029-4780-9d8a-7f5d51290651",
   "metadata": {},
   "source": [
    "## Load graph from SPPARKS outputs "
   ]
  },
  {
   "cell_type": "code",
   "execution_count": null,
   "id": "1100128e-166a-4f6e-9fd6-6fd3d6b3b879",
   "metadata": {},
   "outputs": [],
   "source": [
    "g = Graph.from_spparks_out('../data/spparks/sample-spparks-run')"
   ]
  },
  {
   "cell_type": "markdown",
   "id": "66cc18e5-c5a6-432a-99fe-d71a9c81ac20",
   "metadata": {},
   "source": [
    "## show initial microstructure, centering candiditae grain and coloring by grain type"
   ]
  },
  {
   "cell_type": "code",
   "execution_count": null,
   "id": "626b54d8-e2ef-4499-b5d5-9e00cf35b750",
   "metadata": {},
   "outputs": [],
   "source": [
    "plt.imshow(g.to_image(True, center_grain=g.cidx[0]))"
   ]
  },
  {
   "cell_type": "markdown",
   "id": "27e05be6-3693-4d33-82fb-ca4d764d1ed5",
   "metadata": {},
   "source": [
    "## indices of first 10 nodes"
   ]
  },
  {
   "cell_type": "code",
   "execution_count": null,
   "id": "881e1951-452f-4dea-9e38-57f94d5bed1c",
   "metadata": {},
   "outputs": [],
   "source": [
    "g.nli[:10]"
   ]
  },
  {
   "cell_type": "markdown",
   "id": "09b1c929-4663-40c6-bb8f-80cd52dad6dd",
   "metadata": {},
   "source": [
    "## Node features"
   ]
  },
  {
   "cell_type": "code",
   "execution_count": null,
   "id": "216c10f6-3404-4b7e-b830-2c58639ac661",
   "metadata": {},
   "outputs": [],
   "source": [
    "g.nodes[0]"
   ]
  },
  {
   "cell_type": "markdown",
   "id": "02091709-69d5-41f7-ad8c-9febdbbd11c2",
   "metadata": {},
   "source": [
    "## indices of first 10 edges"
   ]
  },
  {
   "cell_type": "code",
   "execution_count": null,
   "id": "1cb2ba6f-9e8b-4312-a27e-592f35c3b9a8",
   "metadata": {},
   "outputs": [],
   "source": [
    "g.eli[:10]"
   ]
  },
  {
   "cell_type": "markdown",
   "id": "2636137d-d070-4910-bc68-96ad59bd0232",
   "metadata": {},
   "source": [
    "## edges don't contain features"
   ]
  },
  {
   "cell_type": "code",
   "execution_count": null,
   "id": "984535ab-a3cf-4433-ad63-533e292d5552",
   "metadata": {},
   "outputs": [],
   "source": [
    "g.edges[(0,3)]"
   ]
  },
  {
   "cell_type": "markdown",
   "id": "53156681-8607-41f3-b0f7-b34f6b878374",
   "metadata": {},
   "source": [
    "## Get subgraph with radius 2, centered around candidate grain, and display it"
   ]
  },
  {
   "cell_type": "code",
   "execution_count": null,
   "id": "f3de63d0-a136-4d32-aef6-73e1feb56e40",
   "metadata": {},
   "outputs": [],
   "source": [
    "sg = g.get_subgraph(center=g.cidx[0], r=2)\n",
    "plt.imshow(sg.to_image(True, center_grain=sg.cidx[0]))"
   ]
  },
  {
   "cell_type": "markdown",
   "id": "40339271-bde7-45a5-a507-44c1a2571dc9",
   "metadata": {},
   "source": [
    "## save graph to json"
   ]
  },
  {
   "cell_type": "code",
   "execution_count": null,
   "id": "9a41a40b-7daa-4e62-8756-b8318479353c",
   "metadata": {},
   "outputs": [],
   "source": [
    "sg.to_json('tmp/example_graph.json')"
   ]
  },
  {
   "cell_type": "markdown",
   "id": "86235113-28ff-4a2a-99fd-cf7b1f6da714",
   "metadata": {},
   "source": [
    "## load graph from json"
   ]
  },
  {
   "cell_type": "code",
   "execution_count": null,
   "id": "d8fc446c-fa02-45ac-ac96-100af63570d4",
   "metadata": {},
   "outputs": [],
   "source": [
    "g2 = Graph.from_json('tmp/example_graph.json')"
   ]
  },
  {
   "cell_type": "markdown",
   "id": "74322601-1fc5-4fad-ab8f-8e29923b0d4a",
   "metadata": {},
   "source": [
    "## Access mlflow tracking data"
   ]
  },
  {
   "cell_type": "code",
   "execution_count": null,
   "id": "2f3b52aa-59ce-470b-8803-523312567bd8",
   "metadata": {},
   "outputs": [],
   "source": [
    "mlflow.list_experiments()"
   ]
  }
 ],
 "metadata": {
  "kernelspec": {
   "display_name": "Python 3 (ipykernel)",
   "language": "python",
   "name": "python3"
  },
  "language_info": {
   "codemirror_mode": {
    "name": "ipython",
    "version": 3
   },
   "file_extension": ".py",
   "mimetype": "text/x-python",
   "name": "python",
   "nbconvert_exporter": "python",
   "pygments_lexer": "ipython3",
   "version": "3.8.13"
  }
 },
 "nbformat": 4,
 "nbformat_minor": 5
}
